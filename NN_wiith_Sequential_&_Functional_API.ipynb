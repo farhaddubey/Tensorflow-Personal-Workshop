{
  "nbformat": 4,
  "nbformat_minor": 0,
  "metadata": {
    "colab": {
      "provenance": [],
      "gpuType": "T4",
      "authorship_tag": "ABX9TyPPa8LppIQhi7VnWokpxsRk",
      "include_colab_link": true
    },
    "kernelspec": {
      "name": "python3",
      "display_name": "Python 3"
    },
    "language_info": {
      "name": "python"
    },
    "accelerator": "GPU"
  },
  "cells": [
    {
      "cell_type": "markdown",
      "metadata": {
        "id": "view-in-github",
        "colab_type": "text"
      },
      "source": [
        "<a href=\"https://colab.research.google.com/github/farhaddubey/Tensorflow-Personal-Workshop/blob/main/NN_wiith_Sequential_%26_Functional_API.ipynb\" target=\"_parent\"><img src=\"https://colab.research.google.com/assets/colab-badge.svg\" alt=\"Open In Colab\"/></a>"
      ]
    },
    {
      "cell_type": "code",
      "execution_count": null,
      "metadata": {
        "id": "dKdi2P_rd0aE"
      },
      "outputs": [],
      "source": [
        "import os\n",
        "# os.environment['TFF_CPP_MIN_LOG_LEVEL']='2'"
      ]
    },
    {
      "cell_type": "code",
      "source": [
        "import tensorflow as tf\n",
        "from tensorflow import keras\n",
        "from tensorflow.keras import layers\n",
        "from tensorflow.keras.datasets import mnist"
      ],
      "metadata": {
        "id": "LP2eUBZVmbbe"
      },
      "execution_count": null,
      "outputs": []
    },
    {
      "cell_type": "code",
      "source": [
        "physical_devices=tf.config.list_physical_devices('GPU')\n",
        "tf.config.experimental.set_memory_growth(physical_devices[0], True)"
      ],
      "metadata": {
        "id": "qwZLrFZpmuY3"
      },
      "execution_count": null,
      "outputs": []
    },
    {
      "cell_type": "code",
      "source": [
        "(X_train, y_train), (X_test, y_test) = mnist.load_data()\n",
        "print(X_train.shape)"
      ],
      "metadata": {
        "colab": {
          "base_uri": "https://localhost:8080/"
        },
        "id": "z7zgQhednAUw",
        "outputId": "a509d29d-5a97-4beb-8728-1d18787bb339"
      },
      "execution_count": null,
      "outputs": [
        {
          "output_type": "stream",
          "name": "stdout",
          "text": [
            "(60000, 28, 28)\n"
          ]
        }
      ]
    },
    {
      "cell_type": "code",
      "source": [
        "X_train=X_train.reshape(-1, 28*28).astype(\"float32\")/255.0\n",
        "X_train\n",
        "X_test=X_test.reshape(-1, 28*28).astype(\"float32\")/255.0"
      ],
      "metadata": {
        "id": "TAWfKza5oHSH"
      },
      "execution_count": null,
      "outputs": []
    },
    {
      "cell_type": "code",
      "source": [
        "# Generating sequential APi\n",
        "model = keras.Sequential(\n",
        "    [\n",
        "        layers.Dense(512, activation='relu'),\n",
        "        layers.Dense(256, activation='relu'),\n",
        "        layers.Dense(10)\n",
        "    ]\n",
        ")"
      ],
      "metadata": {
        "id": "QYvlwnJEqlIZ"
      },
      "execution_count": null,
      "outputs": []
    },
    {
      "cell_type": "code",
      "source": [
        "# 2nd way of Using Sequential\n",
        "model=keras.Sequential()\n",
        "model.add(keras.Input(shape=(784)))\n",
        "model.add(layers.Dense(512, activation='relu'))\n",
        "model.add(layers.Dense(256, activation='relu'))\n",
        "model.add(layers.Dense(10))\n",
        "\n",
        "model=keras.Model(inputs=model.inputs, outputs=[layer.output for layer in model.layers])\n",
        "features=model.predict(X_train)\n",
        "for feature in features:\n",
        "  print(feature.shape)\n",
        "\n",
        "# Functional  API (A bit more flexible)\n",
        "inputs=keras.Input(shape=(784))\n",
        "x=layers.Dense(512, activation='relu')(inputs)\n",
        "x=layers.Dense(256, activation='relu')(x)\n",
        "outputs=layers.Dense(10, activation='softmax')(x)\n",
        "# As we used softmax function here, Hence to change the from_logits=False from true\n",
        "model=keras.Model(inputs=inputs, outputs=outputs)\n",
        "print(model.summary())\n",
        "\n",
        "model.compile(\n",
        "    loss=keras.losses.SparseCategoricalCrossentropy(from_logits=True),\n",
        "    optimizer=keras.optimizers.Adam(lr=.01),\n",
        "    metrics=[\"accuracy\"]\n",
        ")\n",
        "model.fit(X_train, y_train, batch_size=32, epochs=5, verbose=2)\n",
        "model.evaluate(X_test, y_test, batch_size=32, verbose=2)"
      ],
      "metadata": {
        "colab": {
          "base_uri": "https://localhost:8080/"
        },
        "id": "OlEK4qGtoseM",
        "outputId": "80b61cf4-59ee-4dd3-f09b-ba222ee4de91"
      },
      "execution_count": null,
      "outputs": [
        {
          "output_type": "stream",
          "name": "stdout",
          "text": [
            "1875/1875 [==============================] - 3s 2ms/step\n",
            "(60000, 512)\n",
            "(60000, 256)\n",
            "(60000, 10)\n",
            "Model: \"model_3\"\n",
            "_________________________________________________________________\n",
            " Layer (type)                Output Shape              Param #   \n",
            "=================================================================\n",
            " input_5 (InputLayer)        [(None, 784)]             0         \n",
            "                                                                 \n",
            " dense_12 (Dense)            (None, 512)               401920    \n",
            "                                                                 \n",
            " dense_13 (Dense)            (None, 256)               131328    \n",
            "                                                                 \n",
            " dense_14 (Dense)            (None, 10)                2570      \n",
            "                                                                 \n",
            "=================================================================\n",
            "Total params: 535818 (2.04 MB)\n",
            "Trainable params: 535818 (2.04 MB)\n",
            "Non-trainable params: 0 (0.00 Byte)\n",
            "_________________________________________________________________\n"
          ]
        },
        {
          "output_type": "stream",
          "name": "stderr",
          "text": [
            "WARNING:absl:`lr` is deprecated in Keras optimizer, please use `learning_rate` or use the legacy optimizer, e.g.,tf.keras.optimizers.legacy.Adam.\n"
          ]
        },
        {
          "output_type": "stream",
          "name": "stdout",
          "text": [
            "None\n",
            "Epoch 1/5\n"
          ]
        },
        {
          "output_type": "stream",
          "name": "stderr",
          "text": [
            "/usr/local/lib/python3.10/dist-packages/keras/src/backend.py:5727: UserWarning: \"`sparse_categorical_crossentropy` received `from_logits=True`, but the `output` argument was produced by a Softmax activation and thus does not represent logits. Was this intended?\n",
            "  output, from_logits = _get_logits(\n"
          ]
        },
        {
          "output_type": "stream",
          "name": "stdout",
          "text": [
            "1875/1875 - 5s - loss: 0.1836 - accuracy: 0.9445 - 5s/epoch - 3ms/step\n",
            "Epoch 2/5\n",
            "1875/1875 - 5s - loss: 0.0785 - accuracy: 0.9749 - 5s/epoch - 2ms/step\n",
            "Epoch 3/5\n",
            "1875/1875 - 4s - loss: 0.0529 - accuracy: 0.9835 - 4s/epoch - 2ms/step\n",
            "Epoch 4/5\n",
            "1875/1875 - 4s - loss: 0.0413 - accuracy: 0.9861 - 4s/epoch - 2ms/step\n",
            "Epoch 5/5\n",
            "1875/1875 - 4s - loss: 0.0322 - accuracy: 0.9895 - 4s/epoch - 2ms/step\n",
            "313/313 - 1s - loss: 0.0867 - accuracy: 0.9770 - 667ms/epoch - 2ms/step\n"
          ]
        },
        {
          "output_type": "execute_result",
          "data": {
            "text/plain": [
              "[0.0867210254073143, 0.9769999980926514]"
            ]
          },
          "metadata": {},
          "execution_count": 15
        }
      ]
    },
    {
      "cell_type": "code",
      "source": [],
      "metadata": {
        "id": "9jS4jQu6qCH0"
      },
      "execution_count": null,
      "outputs": []
    }
  ]
}